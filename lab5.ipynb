{
 "cells": [
  {
   "cell_type": "code",
   "execution_count": 1,
   "id": "c60edfc6-21ff-42ba-a87e-a41ddd2444b3",
   "metadata": {},
   "outputs": [],
   "source": [
    "import numpy as np\n",
    "from matplotlib import pyplot as plt"
   ]
  },
  {
   "cell_type": "code",
   "execution_count": 16,
   "id": "812ea9b3-002c-4267-ae10-399f2a038136",
   "metadata": {},
   "outputs": [],
   "source": [
    "# 1 Var.\n",
    "x = np.array([0.25, 0.31, 0.36, 0.39, 0.43, 0.47, 0.52, 0.56, 0.64, 0.66, 0.71])\n",
    "y = np.array([0.778, 0.758, 0.717, 0.677, 0.650, 0.625, 0.644, 0.661, 0.717, 0.724, 0.741])\n",
    "\n",
    "np.printoptions(precision = 9)\n",
    "\n",
    "def s(j): return np.power(x, j).sum()\n",
    "\n",
    "def b(j): return (np.power(x, j) * y).sum()"
   ]
  },
  {
   "cell_type": "code",
   "execution_count": 3,
   "id": "accb5d57-bf8e-4f96-9358-9e48f72b36e4",
   "metadata": {
    "tags": []
   },
   "outputs": [],
   "source": [
    "A2 = np.matrix([[s(0), s(1), s(2)],\n",
    "                [s(1), s(2), s(3)],\n",
    "                [s(2), s(3), s(4)]])\n",
    "B2 = np.matrix([b(0), b(1), b(2)]).T\n",
    "\n",
    "a2 = np.linalg.solve(A2, B2)"
   ]
  },
  {
   "cell_type": "code",
   "execution_count": 4,
   "id": "aa41e569-d0f7-444a-95fa-96b28f691089",
   "metadata": {},
   "outputs": [],
   "source": [
    "def p2(t):\n",
    "    \"\"\"Возвращает значение многочлена 2-й степени\"\"\"\n",
    "    t_c = np.copy(t)\n",
    "    for x in np.nditer(t_c, op_flags=['readwrite']):\n",
    "        x[...] =  (np.power(x, [0, 1, 2]) * np.asarray(a2.T)).sum()\n",
    "    return t_c"
   ]
  },
  {
   "cell_type": "code",
   "execution_count": 5,
   "id": "f1955ea0-e46a-4812-9b71-519e58f819fe",
   "metadata": {},
   "outputs": [],
   "source": [
    "A3 = np.matrix([[s(0), s(1), s(2), s(3)],\n",
    "                [s(1), s(2), s(3), s(4)],\n",
    "                [s(2), s(3), s(4), s(5)],\n",
    "                [s(3), s(4), s(5), s(6)]])\n",
    "B3 = np.matrix([b(0), b(1), b(2), b(3)]).T\n",
    "\n",
    "a3 = np.linalg.solve(A3, B3)"
   ]
  },
  {
   "cell_type": "code",
   "execution_count": 6,
   "id": "05ca52e2-3ee2-4b7c-9744-59a0b7d9c9cf",
   "metadata": {},
   "outputs": [],
   "source": [
    "def p3(t):\n",
    "    \"\"\"Возвращает значение многочлена 3-й степени\"\"\"\n",
    "    t_c = np.copy(t)\n",
    "    for x in np.nditer(t_c, op_flags=['readwrite']):\n",
    "        x[...] =  (np.power(x, [0, 1, 2, 3]) * np.asarray(a3.T)).sum()\n",
    "    return t_c"
   ]
  },
  {
   "cell_type": "code",
   "execution_count": 7,
   "id": "6ee3c40b-4a1d-490b-82d6-019bafd29e0b",
   "metadata": {},
   "outputs": [],
   "source": [
    "A4 = np.matrix([[s(0), s(1), s(2), s(3), s(4)],\n",
    "                [s(1), s(2), s(3), s(4), s(5)],\n",
    "                [s(2), s(3), s(4), s(5), s(6)],\n",
    "                [s(3), s(4), s(5), s(6), s(7)],\n",
    "                [s(4), s(5), s(6), s(7), s(8)]])\n",
    "B4 = np.matrix([b(0), b(1), b(2), b(3), b(4)]).T\n",
    "\n",
    "a4 = np.linalg.solve(A4, B4)"
   ]
  },
  {
   "cell_type": "code",
   "execution_count": 8,
   "id": "57502abb-c83e-49e7-a9e1-0b372bada4c7",
   "metadata": {},
   "outputs": [],
   "source": [
    "def p4(t):\n",
    "    \"\"\"Возвращает значение многочлена 4-й степени\"\"\"\n",
    "    t_c = np.copy(t)\n",
    "    for x in np.nditer(t_c, op_flags=['readwrite']):\n",
    "        x[...] =  (np.power(x, [0, 1, 2, 3, 4]) * np.asarray(a4.T)).sum()\n",
    "    return t_c"
   ]
  },
  {
   "cell_type": "code",
   "execution_count": 9,
   "id": "bffd2e04-83a2-4b08-861a-260730a645bf",
   "metadata": {
    "jupyter": {
     "source_hidden": true
    },
    "tags": []
   },
   "outputs": [
    {
     "data": {
      "text/latex": [
       "Инициализация полиномов 5-8 степеней:\n"
      ],
      "text/plain": [
       "<IPython.core.display.Latex object>"
      ]
     },
     "metadata": {},
     "output_type": "display_data"
    }
   ],
   "source": [
    "%%latex\n",
    "Инициализация полиномов 5-8 степеней:"
   ]
  },
  {
   "cell_type": "code",
   "execution_count": 10,
   "id": "32bbda2e-479a-4894-bb1b-a5e58fe965ee",
   "metadata": {},
   "outputs": [],
   "source": [
    "p5 = np.poly1d(np.polyfit(x, y, 5))\n",
    "p6 = np.poly1d(np.polyfit(x, y, 6))\n",
    "p7 = np.poly1d(np.polyfit(x, y, 7))\n",
    "p8 = np.poly1d(np.polyfit(x, y, 8))\n",
    "p8 = np.poly1d(np.polyfit(x, y, 8))"
   ]
  },
  {
   "cell_type": "code",
   "execution_count": 11,
   "id": "2b7c206c-912b-4a43-b10e-2af58fc67114",
   "metadata": {
    "jupyter": {
     "source_hidden": true
    },
    "tags": []
   },
   "outputs": [
    {
     "data": {
      "text/latex": [
       "Абсолютные погрешности:\n"
      ],
      "text/plain": [
       "<IPython.core.display.Latex object>"
      ]
     },
     "metadata": {},
     "output_type": "display_data"
    }
   ],
   "source": [
    "%%latex\n",
    "Абсолютные погрешности:"
   ]
  },
  {
   "cell_type": "code",
   "execution_count": 12,
   "id": "7180c3ad-a85c-4373-ac28-ebdc049d6fda",
   "metadata": {
    "jupyter": {
     "source_hidden": true
    },
    "tags": []
   },
   "outputs": [
    {
     "name": "stdout",
     "output_type": "stream",
     "text": [
      "ar2 = 0.026374609658501802\n",
      "ar3 = 0.026364190638658025\n",
      "ar4 = 0.009069000756746881\n",
      "ar5 = 0.0081051276874482\n",
      "ar6 = 0.005318857121352383\n",
      "ar7 = 0.0047352593761808\n",
      "ar8 = 0.0054119864651284155\n"
     ]
    }
   ],
   "source": [
    "ar2 = np.abs(y - p2(x))\n",
    "ar3 = np.abs(y - p3(x))\n",
    "ar4 = np.abs(y - p4(x))\n",
    "ar5 = np.abs(y - p5(x))\n",
    "ar6 = np.abs(y - p6(x))\n",
    "ar7 = np.abs(y - p7(x))\n",
    "ar8 = np.abs(y - p8(x))\n",
    "print(f'ar2 = {np.max(ar2)}')\n",
    "print(f'ar3 = {np.max(ar3)}')\n",
    "print(f'ar4 = {np.max(ar4)}')\n",
    "print(f'ar5 = {np.max(ar5)}')\n",
    "print(f'ar6 = {np.max(ar6)}')\n",
    "print(f'ar7 = {np.max(ar7)}')\n",
    "print(f'ar8 = {np.max(ar8)}')"
   ]
  },
  {
   "cell_type": "code",
   "execution_count": 13,
   "id": "5e072fa0-119a-41c8-9034-1572627d6ce7",
   "metadata": {
    "jupyter": {
     "source_hidden": true
    },
    "tags": []
   },
   "outputs": [
    {
     "data": {
      "text/latex": [
       "Среднеквадратичная погрешность:\n"
      ],
      "text/plain": [
       "<IPython.core.display.Latex object>"
      ]
     },
     "metadata": {},
     "output_type": "display_data"
    }
   ],
   "source": [
    "%%latex\n",
    "Среднеквадратичная погрешность:"
   ]
  },
  {
   "cell_type": "code",
   "execution_count": 14,
   "id": "87318c75-6204-4e7b-b8ca-c4d100e3ff04",
   "metadata": {
    "jupyter": {
     "source_hidden": true
    },
    "tags": []
   },
   "outputs": [
    {
     "name": "stdout",
     "output_type": "stream",
     "text": [
      "sr2 = 0.004582507384690488\n",
      "sr3 = 0.004568833562448923\n",
      "sr4 = 0.0013740585278683444\n",
      "sr5 = 0.0010926767946691153\n",
      "sr6 = 0.0008591752675141255\n",
      "sr7 = 0.000818929383918797\n",
      "sr8 = 0.0007935837701098417\n"
     ]
    }
   ],
   "source": [
    "sr2 = np.sqrt(np.power(ar2, 2).sum()) / (len(x) + 1)\n",
    "sr3 = np.sqrt(np.power(ar3, 2).sum()) / (len(x) + 1)\n",
    "sr4 = np.sqrt(np.power(ar4, 2).sum()) / (len(x) + 1)\n",
    "sr5 = np.sqrt(np.power(ar5, 2).sum()) / (len(x) + 1)\n",
    "sr6 = np.sqrt(np.power(ar6, 2).sum()) / (len(x) + 1)\n",
    "sr7 = np.sqrt(np.power(ar7, 2).sum()) / (len(x) + 1)\n",
    "sr8 = np.sqrt(np.power(ar8, 2).sum()) / (len(x) + 1)\n",
    "print(f'sr2 = {sr2}')\n",
    "print(f'sr3 = {sr3}')\n",
    "print(f'sr4 = {sr4}')\n",
    "print(f'sr5 = {sr5}')\n",
    "print(f'sr6 = {sr6}')\n",
    "print(f'sr7 = {sr7}')\n",
    "print(f'sr8 = {sr8}')"
   ]
  },
  {
   "cell_type": "code",
   "execution_count": 15,
   "id": "da2ba44f-9650-4107-9981-36f08cbc21a1",
   "metadata": {},
   "outputs": [
    {
     "data": {
      "text/plain": [
       "<matplotlib.legend.Legend at 0x19892885730>"
      ]
     },
     "execution_count": 15,
     "metadata": {},
     "output_type": "execute_result"
    },
    {
     "data": {
      "image/png": "[encoded data removed]",
      "text/plain": [
       "<Figure size 432x288 with 1 Axes>"
      ]
     },
     "metadata": {
      "needs_background": "light"
     },
     "output_type": "display_data"
    }
   ],
   "source": [
    "points = np.linspace(x[0], x[-1], 100)\n",
    "plt.plot(points, p2(points), color = 'green', label = r'$k = 2$')\n",
    "plt.plot(points, p5(points), color = 'red', label = r'$k = 5$')\n",
    "plt.plot(points, p8(points), label = r'$k = 8$', color = 'blue')\n",
    "plt.scatter(x, y, color = 'black')\n",
    "plt.legend()"
   ]
  }
 ],
 "metadata": {
  "kernelspec": {
   "display_name": "Python 3 (ipykernel)",
   "language": "python",
   "name": "python3"
  },
  "language_info": {
   "codemirror_mode": {
    "name": "ipython",
    "version": 3
   },
   "file_extension": ".py",
   "mimetype": "text/x-python",
   "name": "python",
   "nbconvert_exporter": "python",
   "pygments_lexer": "ipython3",
   "version": "3.9.7"
  },
  "widgets": {
   "application/vnd.jupyter.widget-state+json": {
    "state": {},
    "version_major": 2,
    "version_minor": 0
   }
  }
 },
 "nbformat": 4,
 "nbformat_minor": 5
}
