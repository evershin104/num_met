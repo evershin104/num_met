{
 "cells": [
  {
   "cell_type": "markdown",
   "id": "6f571ed3-ab29-4657-894a-8e136ee0249d",
   "metadata": {},
   "source": [
    "# Краевая задача для ОДУ второго порядка"
   ]
  },
  {
   "cell_type": "markdown",
   "id": "66cef734-d53b-4df0-9598-71ff44dbb52f",
   "metadata": {},
   "source": [
    "Численное решение краевой задачи для обыкновенного дифференциального уравнения второго порядка.\n",
    "$$\\frac{d^2u}{dx^2} + p(x)\\frac{du}{dx} - q(x)u=f(x)$$\n",
    "$$u(1) = 1, u(3) = 0$$"
   ]
  },
  {
   "cell_type": "code",
   "execution_count": 1,
   "id": "35218c0f-9794-4eea-8b8a-eddc43acad2d",
   "metadata": {},
   "outputs": [],
   "source": [
    "def p(x): return 1 + np.power(x, 2)\n",
    "def q(x): return 0.5 * x\n",
    "def f(x): return x + 1\n",
    "a, b = 1, 3"
   ]
  },
  {
   "cell_type": "markdown",
   "id": "8c2dfcad-fd64-4c32-9239-461e8c6b3716",
   "metadata": {},
   "source": [
    "$$u'' + (1 + x^2)u' - 0.5xu - x - 1 = 0$$"
   ]
  },
  {
   "cell_type": "code",
   "execution_count": 2,
   "id": "7435e48c-36dd-454b-8e06-dd7f94c9ac5b",
   "metadata": {},
   "outputs": [],
   "source": [
    "import numpy as np\n",
    "from matplotlib import pyplot as plt\n",
    "import warnings\n",
    "warnings.filterwarnings(\"ignore\", category=UserWarning)"
   ]
  },
  {
   "cell_type": "markdown",
   "id": "a7098439-c287-4af2-a596-98f75c5af90e",
   "metadata": {
    "tags": []
   },
   "source": [
    "### 1. Найти приближенное решение задачи, используя разностную схему первого или второго порядка точности с погрешностью не более $10^{-3}$ (оценивая погрешность по методу Рунге).В зависимости от номера варианта использовать:\n",
    "\n",
    "1). разностную схему с левой разностной производной первого порядка\n",
    "\n",
    "2). разностную схему с правой разностной производной первого порядка\n",
    "\n",
    "3). разностную схему с центральной разностной производной первого порядка"
   ]
  },
  {
   "cell_type": "markdown",
   "id": "58b1747d-9925-45ab-856e-5367c1841069",
   "metadata": {},
   "source": [
    "### Поиск значений $u$ с помощью метода прогонки"
   ]
  },
  {
   "cell_type": "code",
   "execution_count": 3,
   "id": "4fe4a057-4903-4191-9e73-0f3f38aefbba",
   "metadata": {
    "jupyter": {
     "source_hidden": true
    },
    "tags": []
   },
   "outputs": [],
   "source": [
    "n = 500\n",
    "h = (b - a)/n\n",
    "x = 1\n",
    "def ai(x): return 1 - p(x) * h\n",
    "def ci(x): return 2 - p(x) * h + q(x) * np.power(h, 2)\n",
    "def gi(x): return - f(x)"
   ]
  },
  {
   "cell_type": "code",
   "execution_count": 4,
   "id": "1ef8f99a-bd7d-4f1c-b004-94c97bc837f2",
   "metadata": {
    "jupyter": {
     "source_hidden": true
    },
    "tags": []
   },
   "outputs": [],
   "source": [
    "alpha = np.array([0])\n",
    "beta = np.array([1])\n",
    "for i in range(500):\n",
    "    x += h\n",
    "    alpha = np.append(alpha, 1/(ci(x) - ai(x) * alpha[i]))\n",
    "    beta = np.append(beta, \n",
    "                     (np.power(h, 2) * gi(x) + ai(x) * beta[i])/ \\\n",
    "                     (ci(x) - ai(x) * alpha[i]))"
   ]
  },
  {
   "cell_type": "code",
   "execution_count": 5,
   "id": "419f2325-729b-4ff0-bbcd-07d2ce32c176",
   "metadata": {
    "jupyter": {
     "source_hidden": true
    },
    "tags": []
   },
   "outputs": [],
   "source": [
    "y1 = np.zeros(n + 1)\n",
    "y1[0], y1[n] = 1, 0\n",
    "for i in range(n - 1, 0, -1):\n",
    "    y1[i] = alpha[i + 1] * y1[i + 1] + beta[i + 1]"
   ]
  },
  {
   "cell_type": "code",
   "execution_count": 6,
   "id": "10a11887-6093-4958-be4f-d4d70e8636b4",
   "metadata": {
    "jupyter": {
     "source_hidden": true
    },
    "tags": []
   },
   "outputs": [
    {
     "data": {
      "text/plain": [
       "<matplotlib.legend.Legend at 0x1fdf8af9fd0>"
      ]
     },
     "execution_count": 6,
     "metadata": {},
     "output_type": "execute_result"
    },
    {
     "data": {
      "image/png": "[encoded data removed]",
      "text/plain": [
       "<Figure size 432x288 with 1 Axes>"
      ]
     },
     "metadata": {
      "needs_background": "light"
     },
     "output_type": "display_data"
    }
   ],
   "source": [
    "plt.plot(np.linspace(a, b, 501), y1, label = r\"$u$\")\n",
    "plt.axhline(y=0, color='black')\n",
    "plt.title('Метод стрельбы')\n",
    "plt.legend()"
   ]
  },
  {
   "cell_type": "markdown",
   "id": "bfbe95ec-1dea-421f-8d31-1b4c2253efdc",
   "metadata": {},
   "source": [
    "### Поиск значений $u$ с помощью метода конечных разностей"
   ]
  },
  {
   "cell_type": "markdown",
   "id": "fab5c585-fddc-4a92-aa7d-d2d63f3e2735",
   "metadata": {},
   "source": [
    "После создания сетки с n-узлами подставляем разностные схемы в исходное уравнение и решаем СЛУ для каждой тройки узлов:\n",
    "\n",
    "$$u(x_i) \\approx y_{i}$$\n",
    "$$u(x_i)' \\approx \\frac{y_i - y_{i - 1}}{h}$$ - разностная схема с левой пр-й I-го порядка\n",
    "$$u(x_i)'' \\approx \\frac{y_{i + 1} - 2y_i + y_{i-1}}{h^2}$$\n",
    "\n",
    "Отсюда выражаем коэффициенты при $y_i$ $-$ $C_{*, i}$, подставив разностные схемы в исходное уравнение:\n",
    "\n",
    "$$\\begin{equation*}\n",
    " \\begin{cases}\n",
    "   y_{i - 1}: \\frac{1}{h^2} - \\frac{p(x_{i})}{h}\n",
    "   \\\\\n",
    "   y_i: -\\frac{2}{h^2} + \\frac{p(x_{i})}{h}\n",
    "   \\\\\n",
    "   y_{i+1}: \\frac{1}{h^2}\n",
    " \\end{cases}\n",
    "\\end{equation*}$$\n",
    "\n",
    "Таким образом получаем систему из $n + 2$ уравнения, включая краевые условия:\n",
    "\n",
    "$$\\begin{equation*}\n",
    " \\begin{cases}\n",
    "   y_1 C_{1, 1} + y_2 C_{1, 2} + y_3 C_{1, 3} = f(x_1)\n",
    "   \\\\\n",
    "   y_2 C_{2, 2} + y_3 C_{2, 3} + y_4 C_{2, 4} = f(x_2)\n",
    "   \\\\\n",
    "   y_3 C_{3, 3} + y_4 C_{3, 4} + y_5 C_{3, 5} = f(x_3)\n",
    "   \\\\\n",
    "   ...\n",
    "   \\\\\n",
    "   y_{n-2} C_{n-1, n-2} + y_{n-1} C_{n, n - 1} + y_{n} C_{n, n} = f(x_{n-1})\n",
    "   \\\\\n",
    "   u''(x_0) + p(1)u' = f(1) + q(1)\n",
    "   \\\\\n",
    "   u''(x_n) + p(3)u' = f(3)\n",
    " \\end{cases}\n",
    "\\end{equation*}$$"
   ]
  },
  {
   "cell_type": "code",
   "execution_count": 7,
   "id": "50aa9735-41e6-4524-8222-9056df01547b",
   "metadata": {
    "tags": []
   },
   "outputs": [],
   "source": [
    "def diff_schem(n = 500):\n",
    "    M = np.matrix(np.zeros((n + 2) * (n + 2))).reshape(n + 2, n + 2)\n",
    "    x = 1\n",
    "    h = (b - a)/n\n",
    "    for i in range(0, n):\n",
    "        M[i, i] = (1 - h * p(x))/np.power(h, 2)\n",
    "        M[i, i + 1] = (-2/np.power(h, 2) + p(x)/h - q(x))\n",
    "        M[i, i + 2] = 1/np.power(h, 2)\n",
    "        x += h\n",
    "    B = np.array([f(1 + h*i) for i in range(n + 2)]).T\n",
    "    M[n, 0] = 1/np.power(h, 2) - p(1)/h\n",
    "    M[n, 1] = (h * p(1) - 2)/np.power(h, 2)\n",
    "    M[n, 2] = 1/np.power(h, 2)\n",
    "    M[n + 1, n - 1], M[n + 1, n], M[n + 1, n + 1] = 1/np.power(h, 2) - p(3)/h, (h * p(3) - 2)/np.power(h, 2), 1/np.power(h, 2)\n",
    "    B[n] = f(1) + q(1)\n",
    "    B[n + 1] = f(3)\n",
    "    sol = np.linalg.solve(M, B)\n",
    "    return sol[1:n + 1]"
   ]
  },
  {
   "cell_type": "code",
   "execution_count": 8,
   "id": "17a0a9e5-2fe0-4d84-93d8-88579eafe6b7",
   "metadata": {
    "tags": []
   },
   "outputs": [
    {
     "data": {
      "text/plain": [
       "Text(0.5, 1.0, 'Метод конечных разностей')"
      ]
     },
     "execution_count": 8,
     "metadata": {},
     "output_type": "execute_result"
    },
    {
     "data": {
      "image/png": "[encoded data removed]",
      "text/plain": [
       "<Figure size 432x288 with 1 Axes>"
      ]
     },
     "metadata": {
      "needs_background": "light"
     },
     "output_type": "display_data"
    }
   ],
   "source": [
    "plt.plot(np.linspace(a, b, 500), diff_schem(500), label = 'u')\n",
    "plt.axhline(y=0, color='black')\n",
    "plt.legend()\n",
    "plt.title('Метод конечных разностей')"
   ]
  },
  {
   "cell_type": "markdown",
   "id": "d33ff33b-a6d7-4dec-a489-10cabdf43cbc",
   "metadata": {},
   "source": [
    "### Оценка погрешности по методу Рунге"
   ]
  },
  {
   "cell_type": "code",
   "execution_count": 9,
   "id": "05959dc6-7573-4a08-be70-83fca523e8d4",
   "metadata": {},
   "outputs": [],
   "source": [
    "k = [250, 500, 1000, 2000, 4000, 8000]\n",
    "rk = []\n",
    "for i in k:\n",
    "    rk.append(np.abs(diff_schem(i) - diff_schem(i*2)[1::2])/3)"
   ]
  },
  {
   "cell_type": "code",
   "execution_count": 10,
   "id": "6a8920f1-db92-4aa7-af38-5eab6c5a3260",
   "metadata": {},
   "outputs": [
    {
     "data": {
      "text/plain": [
       "<matplotlib.legend.Legend at 0x1fdf8c5be50>"
      ]
     },
     "execution_count": 10,
     "metadata": {},
     "output_type": "execute_result"
    },
    {
     "data": {
      "image/png": "[encoded data removed]",
      "text/plain": [
       "<Figure size 640x480 with 1 Axes>"
      ]
     },
     "metadata": {
      "needs_background": "light"
     },
     "output_type": "display_data"
    }
   ],
   "source": [
    "from matplotlib.pyplot import figure\n",
    "\n",
    "figure(figsize=(8, 6), dpi=80)\n",
    "plt.plot(rk[-1], label = r'$\\frac{1}{3}|R_{8k} - R_{16k}|$')\n",
    "plt.plot(rk[-2], label = r'$\\frac{1}{3}|R_{4k} - R_{8k}|$')\n",
    "plt.plot(rk[-3], label = r'$\\frac{1}{3}|R_{2k} - R_{4k}|$')\n",
    "plt.plot(rk[-4], label = r'$\\frac{1}{3}|R_{1k} - R_{2k}|$')\n",
    "plt.legend()"
   ]
  },
  {
   "cell_type": "markdown",
   "id": "f63cb244-6e35-48aa-b34a-592fdc536275",
   "metadata": {},
   "source": [
    "Для погрешности < $10^{-3}$ имеет смысл использовать метод конечных разностей с 4000 узлами и более."
   ]
  }
 ],
 "metadata": {
  "kernelspec": {
   "display_name": "Python 3 (ipykernel)",
   "language": "python",
   "name": "python3"
  },
  "language_info": {
   "codemirror_mode": {
    "name": "ipython",
    "version": 3
   },
   "file_extension": ".py",
   "mimetype": "text/x-python",
   "name": "python",
   "nbconvert_exporter": "python",
   "pygments_lexer": "ipython3",
   "version": "3.9.7"
  },
  "widgets": {
   "application/vnd.jupyter.widget-state+json": {
    "state": {},
    "version_major": 2,
    "version_minor": 0
   }
  }
 },
 "nbformat": 4,
 "nbformat_minor": 5
}
