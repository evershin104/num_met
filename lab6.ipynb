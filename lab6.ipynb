{
 "cells": [
  {
   "cell_type": "markdown",
   "id": "76a5a38f-6cac-4a06-bc97-208cdf06488d",
   "metadata": {},
   "source": [
    "## Численные методы, №6"
   ]
  },
  {
   "cell_type": "code",
   "execution_count": 1,
   "id": "ccade931-11e1-4e86-ab05-7a409241be72",
   "metadata": {
    "tags": []
   },
   "outputs": [],
   "source": [
    "import numpy as np\n",
    "from matplotlib import pyplot as plt\n",
    "from pprint import pprint"
   ]
  },
  {
   "cell_type": "code",
   "execution_count": 2,
   "id": "0ce9a854-02a6-43b6-baa3-13d60a723e6c",
   "metadata": {},
   "outputs": [],
   "source": [
    "def f(x): return np.log(x) - 1/np.power(x, 2)\n",
    "a, b = 1, 6"
   ]
  },
  {
   "cell_type": "markdown",
   "id": "b1b6e261-8d68-41ca-9e40-0a62d96af4b6",
   "metadata": {
    "tags": []
   },
   "source": [
    "## Встроенный метод трапеций"
   ]
  },
  {
   "cell_type": "code",
   "execution_count": 3,
   "id": "6723ad33-0e22-4df0-9a9c-a131ce631175",
   "metadata": {},
   "outputs": [],
   "source": [
    "# Встроенный метод трапеций\n",
    "I = np.trapz(f(np.linspace(a, b, 100)), np.linspace(a, b, 100))"
   ]
  },
  {
   "cell_type": "markdown",
   "id": "39f2fc50-10bf-488f-a323-dac47b461aa8",
   "metadata": {},
   "source": [
    "## Формула левых прямоугольников"
   ]
  },
  {
   "cell_type": "code",
   "execution_count": 4,
   "id": "ae4c8fec-3894-4a0c-b77e-9fda85849d94",
   "metadata": {},
   "outputs": [],
   "source": [
    "# Формула левых прямоугольников\n",
    "def left_triangles_method(func, k = 10, interval = (1, 6)):\n",
    "    n = np.power(2, k)\n",
    "    h = (interval[1] - interval[0])/n\n",
    "    value = 0\n",
    "    for i in range(0, n):\n",
    "        value += func(interval[0] + i * h)\n",
    "    return value * h"
   ]
  },
  {
   "cell_type": "markdown",
   "id": "2876653e-5707-43fe-ade0-90a2a0bf401a",
   "metadata": {},
   "source": [
    "## Расчет погрешностей по Рунге"
   ]
  },
  {
   "cell_type": "code",
   "execution_count": 5,
   "id": "150fb9a3-af8e-4837-9528-1a5ecf1f3f10",
   "metadata": {},
   "outputs": [],
   "source": [
    "def runge_err_est(integral, acc = (2, 10)):\n",
    "    runge = dict()\n",
    "    for i in range(acc[0], acc[1] + 1):\n",
    "        runge[f'Z{i}'] = np.abs(integral - left_triangles_method(f, i))\n",
    "    for i in range(acc[0], acc[1] + 1):\n",
    "        runge[f'R{i}'] = np.abs(left_triangles_method(f, i) -\\\n",
    "                                left_triangles_method(f, i - 1))/3\n",
    "    for i in range(acc[0] + 1, acc[1] + 1):\n",
    "        runge[f'R_p/R_{i}'] = runge[f'R{i - 1}']/runge[f'R{i}']\n",
    "    return runge"
   ]
  },
  {
   "cell_type": "markdown",
   "id": "72b88118-9cf2-4849-b2e5-4be26781f8d9",
   "metadata": {},
   "source": [
    "$O(h) = O(2^{k})$ - скорость сходимости метода левых квадратов"
   ]
  },
  {
   "cell_type": "code",
   "execution_count": 6,
   "id": "9edd3029-439d-4604-81c7-f8ae909a8f11",
   "metadata": {
    "tags": []
   },
   "outputs": [
    {
     "name": "stdout",
     "output_type": "stream",
     "text": [
      "{'R10': 0.00225494488728728,\n",
      " 'R2': 0.8150384687463813,\n",
      " 'R3': 0.3643683538642386,\n",
      " 'R4': 0.16554886013398828,\n",
      " 'R5': 0.07762338308521037,\n",
      " 'R6': 0.037419133947377205,\n",
      " 'R7': 0.018353353689740004,\n",
      " 'R8': 0.009087084899062662,\n",
      " 'R9': 0.004521110200947476,\n",
      " 'R_p/R_10': 2.004975920447623,\n",
      " 'R_p/R_3': 2.236853063946546,\n",
      " 'R_p/R_4': 2.2009716863609583,\n",
      " 'R_p/R_5': 2.1327189508380293,\n",
      " 'R_p/R_6': 2.0744302418749907,\n",
      " 'R_p/R_7': 2.038817241793551,\n",
      " 'R_p/R_8': 2.0197185228932066,\n",
      " 'R_p/R_9': 2.009923336342987,\n",
      " 'Z10': 0.006153552892457448,\n",
      " 'Z2': 2.043682227016013,\n",
      " 'Z3': 0.9505771654232973,\n",
      " 'Z4': 0.45393058502133243,\n",
      " 'Z5': 0.22106043576570134,\n",
      " 'Z6': 0.10880303392356971,\n",
      " 'Z7': 0.0537429728543497,\n",
      " 'Z8': 0.026481718157161716,\n",
      " 'Z9': 0.012918387554319288}\n"
     ]
    },
    {
     "data": {
      "text/plain": [
       "<matplotlib.legend.Legend at 0x1e92332dc70>"
      ]
     },
     "execution_count": 6,
     "metadata": {},
     "output_type": "execute_result"
    },
    {
     "data": {
      "image/png": "[encoded data removed]",
      "text/plain": [
       "<Figure size 432x288 with 1 Axes>"
      ]
     },
     "metadata": {
      "needs_background": "light"
     },
     "output_type": "display_data"
    }
   ],
   "source": [
    "R = runge_err_est(I)\n",
    "pprint(R)\n",
    "R = list(runge_err_est(I).values())\n",
    "\n",
    "# Интерполяция полиномом 2 степени\n",
    "# p2 = np.poly1d(np.polyfit(np.arange(2, 10), R[10:18], 2))\n",
    "# plt.plot(np.linspace(2, 9, 100), p2(np.linspace(2, 9, 100)), label = r'$interp(R_{k})$')\n",
    "\n",
    "plt.plot(np.arange(2, 10), R[10:18], label = r'$R_{k}$')\n",
    "plt.title(r'Сходимость $R_{k}$')\n",
    "plt.xlabel(r'$k$')\n",
    "plt.ylabel(r'$R_{k}$')\n",
    "plt.legend()\n"
   ]
  },
  {
   "cell_type": "markdown",
   "id": "9dec04c5-ced8-4516-a13f-6dcb53141c2b",
   "metadata": {},
   "source": [
    "## Квадратурная формула Гаусса для двух узлов"
   ]
  },
  {
   "cell_type": "code",
   "execution_count": 7,
   "id": "a37b9152-1c72-4f37-9381-04efcff862a4",
   "metadata": {
    "tags": []
   },
   "outputs": [],
   "source": [
    "# Квадратурная формула Гаусса для двух узлов\n",
    "def quad_gauss_formula(interval = (1, 6), func = f):\n",
    "    G = (interval[1] - interval[0]) * \\\n",
    "    (func(interval[0] + (interval[1] - interval[0]) * 0.21132487) +\\\n",
    "    func(interval[0] + (interval[1] - interval[0]) * 0.78867513))/2\n",
    "    return G\n",
    "    "
   ]
  },
  {
   "cell_type": "code",
   "execution_count": 8,
   "id": "be82b1ad-575c-4ef8-a89b-648a8aee8dff",
   "metadata": {
    "tags": []
   },
   "outputs": [
    {
     "data": {
      "text/plain": [
       "0.18780059462264465"
      ]
     },
     "execution_count": 8,
     "metadata": {},
     "output_type": "execute_result"
    }
   ],
   "source": [
    "np.abs(I - quad_gauss_formula()) # ~ 2^5 узлов "
   ]
  }
 ],
 "metadata": {
  "kernelspec": {
   "display_name": "Python 3 (ipykernel)",
   "language": "python",
   "name": "python3"
  },
  "language_info": {
   "codemirror_mode": {
    "name": "ipython",
    "version": 3
   },
   "file_extension": ".py",
   "mimetype": "text/x-python",
   "name": "python",
   "nbconvert_exporter": "python",
   "pygments_lexer": "ipython3",
   "version": "3.9.7"
  },
  "widgets": {
   "application/vnd.jupyter.widget-state+json": {
    "state": {},
    "version_major": 2,
    "version_minor": 0
   }
  }
 },
 "nbformat": 4,
 "nbformat_minor": 5
}
