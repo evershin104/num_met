{
 "cells": [
  {
   "cell_type": "markdown",
   "id": "2049a573-32b7-44bc-920d-9e3945421830",
   "metadata": {},
   "source": [
    "## Начально-краевая задача для уравнения теплопроводности (ЛР 9, вар. 1)"
   ]
  },
  {
   "cell_type": "code",
   "execution_count": 1,
   "id": "16aa7f63-9140-4960-82a6-87834ab0eb29",
   "metadata": {},
   "outputs": [],
   "source": [
    "import warnings\n",
    "warnings.filterwarnings(\"ignore\", category=UserWarning)"
   ]
  },
  {
   "cell_type": "markdown",
   "id": "f435cfd6-727a-4181-b779-039a4d7b1da0",
   "metadata": {},
   "source": [
    "$$\\frac{du}{dt} = p(x) \\frac{d^2u}{dx^2} + f(t, x)$$\n",
    "\n",
    "$$u(t, 0) = \\mu_1(t)\\\\u(t, L) = \\mu_2(t)$$\n",
    "\n",
    "$$\\Omega = \\{(x, t): 0< x<L, 0<t<T \\}$$"
   ]
  },
  {
   "cell_type": "markdown",
   "id": "0dbe7629-b9a5-4a20-902c-d5b7b9c022c9",
   "metadata": {},
   "source": [
    "Условия:\n",
    "$$\\begin{equation*}\n",
    " \\begin{cases}\n",
    "   p(x) = 1 + x^2\n",
    "   \\\\\n",
    "   f(t, x) = x^2 - t^2\n",
    "   \\\\\n",
    "   \\phi(x)=  (1 - x)^2\n",
    "   \\\\\n",
    "   \\mu_1(t) = 1\n",
    "   \\\\ \n",
    "   \\mu_2(t) = 2t\n",
    "   \\\\ \n",
    "   L = 2\n",
    "   \\\\\n",
    "   T = 1\n",
    " \\end{cases}\n",
    "\\end{equation*}$$"
   ]
  },
  {
   "cell_type": "code",
   "execution_count": 13,
   "id": "f74d96bd-e5cc-4916-ab47-f71f74c2e150",
   "metadata": {},
   "outputs": [],
   "source": [
    "import numpy as np\n",
    "from matplotlib import pyplot as plt\n",
    "from matplotlib.ticker import MaxNLocator\n",
    "from matplotlib import cm\n",
    "%matplotlib qt"
   ]
  },
  {
   "cell_type": "code",
   "execution_count": 3,
   "id": "c09bb11c-1097-41c6-8b3f-34ef2e4fc653",
   "metadata": {},
   "outputs": [],
   "source": [
    "def f(t, x): return np.power(x, 2) - np.power(t, 2)\n",
    "def p(x): return 1 + np.power(x, 2)\n",
    "def phi(x): return np.power(1 - x, 2)\n",
    "def mu_2(t): return 2 * t\n",
    "def mu_1(t): return 1\n",
    "# def f(t, x): return - t * (0.5 + np.power(x,2))\n",
    "# def p(x): return 0.3* x\n",
    "# def phi(x): return x * (2 - x)\n",
    "# def mu_2(t): return np.power(t, 2)\n",
    "# def mu_1(t): return t"
   ]
  },
  {
   "cell_type": "markdown",
   "id": "2a83d071-5615-4875-bdd3-f43e4ec70308",
   "metadata": {},
   "source": [
    "$$\\begin{equation*}\n",
    " \\begin{cases}\n",
    "   u_{x}' = (1 + x^2)u_{xx}'' + x^2 - t^2\n",
    "   \\\\\n",
    "   u(t, 0) = 1\n",
    "   \\\\\n",
    "   u(t, 2) = 2t\n",
    "   \\\\\n",
    "   x \\in (0, 2)\n",
    "   \\\\\n",
    "   t \\in (0, 1)\n",
    " \\end{cases}\n",
    "\\end{equation*}$$"
   ]
  },
  {
   "cell_type": "markdown",
   "id": "3b3cccb8-fd9c-4503-9e8e-89535cfc772c",
   "metadata": {},
   "source": [
    "## Явная разностная схема:\n",
    "\n",
    "$$\\begin{equation*}\n",
    " \\begin{cases}\n",
    "   y_{n}^{j + 1} = j_{n}^{j} + p(x_n) \\frac{\\tau}{h^2}(y_{n-1}^{j} - 2y_{n}^{j} + y_{n+1}^{j}) + \\tau f(t_m, x_n), \\quad n = \\overline{1, N-1}, j = \\overline{0, M -1}\n",
    "   \\\\\n",
    "   y_{n}^{0} = \\phi(x_n), \\quad n = \\overline{0, N}\n",
    "   \\\\\n",
    "   y_{0}^{j} = \\mu_1(t_j)\n",
    "   \\\\\n",
    "   y_{N}^{j} = \\mu_2(t_j)\n",
    "   \\\\\n",
    "   x_n = n \\cdot h\n",
    "   \\\\\n",
    "   t_j = j \\cdot \\tau\n",
    "   \\\\\n",
    "   M \\geq 2N^2, \\quad \\tau '\\leq h^2/2\n",
    " \\end{cases}\n",
    "\\end{equation*}$$"
   ]
  },
  {
   "cell_type": "code",
   "execution_count": 4,
   "id": "a832bcdc-1a13-49c0-a6db-bbc76a5c3579",
   "metadata": {},
   "outputs": [],
   "source": [
    "def solve(N):\n",
    "    n = N\n",
    "    L = 2\n",
    "    h = L/n\n",
    "    q = 0.6\n",
    "    gamma = np.power(h, 2)/(2 * q)\n",
    "    m = 2 * n * n\n",
    "    tau = 1/m\n",
    "    y = np.zeros((m + 1) * (n + 1)).reshape(m + 1, n + 1)\n",
    "    X, T, Y = np.array([]), np.array([]), np.array([]) \n",
    "    y[:, 0] = np.array([mu_1(i * tau) for i in range(0, m + 1)])\n",
    "    y[:, n] = np.array([mu_2(i * tau) for i in range(0, m + 1)])\n",
    "    y[0,:] = np.array([phi(i * h) for i in range(0, n + 1)])\n",
    "    for k in range(0, m):\n",
    "        for i in range(1, n):\n",
    "            x = i * h\n",
    "            t = k * tau\n",
    "            y[k + 1, i] = y[k, i] + (p(x)) * (tau/np.power(h, 2)) * (y[k, i + 1] - 2 * y[k ,i] + y[k, i - 1]) + tau * f(t, x)\n",
    "    for i in range(0, n + 1):\n",
    "        for j in range(0, m + 1):\n",
    "            Y = np.append(Y, y[j, i])\n",
    "            T = np.append(T, j * tau)\n",
    "            X = np.append(X, i * h)\n",
    "    return X, T, Y, y"
   ]
  },
  {
   "cell_type": "code",
   "execution_count": 5,
   "id": "e8b1c821-ca47-49af-8821-3885ecd8f8f7",
   "metadata": {},
   "outputs": [],
   "source": [
    "x, t, y, matrix = solve(10)\n",
    "n = 10\n",
    "m = 2 * n * n"
   ]
  },
  {
   "cell_type": "code",
   "execution_count": 14,
   "id": "ff7735f1-dbe4-4336-8208-7a93051d86a2",
   "metadata": {},
   "outputs": [],
   "source": [
    "fig = plt.figure()\n",
    "ax = fig.add_subplot(111, projection='3d')\n",
    "surf = ax.plot_trisurf(x, t, y, cmap=cm.jet, linewidth=0)\n",
    "fig.colorbar(surf)\n",
    "ax.set_xlabel(r'$x$')\n",
    "ax.set_ylabel(r'$t$')\n",
    "ax.set_zlabel(r'$u$')\n",
    "ax.xaxis.set_major_locator(MaxNLocator(5))\n",
    "ax.yaxis.set_major_locator(MaxNLocator(6))\n",
    "ax.zaxis.set_major_locator(MaxNLocator(5))\n",
    "fig.tight_layout()\n",
    "plt.show()"
   ]
  },
  {
   "cell_type": "code",
   "execution_count": 7,
   "id": "3897b1bd-5184-48f8-a846-e918f479aa40",
   "metadata": {},
   "outputs": [
    {
     "data": {
      "text/plain": [
       "<matplotlib.legend.Legend at 0x27cd3ecc640>"
      ]
     },
     "execution_count": 7,
     "metadata": {},
     "output_type": "execute_result"
    },
    {
     "data": {
      "image/png": "[encoded data removed]",
      "text/plain": [
       "<Figure size 432x288 with 1 Axes>"
      ]
     },
     "metadata": {
      "needs_background": "light"
     },
     "output_type": "display_data"
    }
   ],
   "source": [
    "%matplotlib inline\n",
    "plt.plot(np.linspace(0, 2, n + 1), matrix[0,:], color = 'blue',\n",
    "        label = r'$y_{0, i}$')\n",
    "plt.plot(np.linspace(0, 2, n + 1), matrix[int(m/2),:], color = 'green',\n",
    "        label = r'$y_{m/2, i}$')\n",
    "plt.plot(np.linspace(0, 2, n + 1), matrix[m,:], color = 'red',\n",
    "        label = r'$y_{m, i}$')\n",
    "plt.axhline(y=0, color='black')\n",
    "plt.legend()"
   ]
  },
  {
   "cell_type": "markdown",
   "id": "0c9246d8-83b2-44a3-a663-5cd99c6eea44",
   "metadata": {},
   "source": [
    "## Оценка погрешности по Рунге на последнем временном слое: "
   ]
  },
  {
   "cell_type": "markdown",
   "id": "c5fb4684-12b6-4ea5-9c50-611b04138023",
   "metadata": {},
   "source": [
    "$$r = |y1_{N}^{j} - y2_{2N}^{j::8}|$$"
   ]
  },
  {
   "cell_type": "code",
   "execution_count": 8,
   "id": "ed0d3340-cabd-4cba-a56b-7764d7902a16",
   "metadata": {},
   "outputs": [],
   "source": [
    "x1, t1, y1, matrix1 = solve(20)\n",
    "x2, t2, y2, matrix2 = solve(40)"
   ]
  },
  {
   "cell_type": "code",
   "execution_count": 9,
   "id": "bfc2bae3-77a8-4bc5-8eef-e73e461118a2",
   "metadata": {},
   "outputs": [
    {
     "data": {
      "text/plain": [
       "(801, 801)"
      ]
     },
     "execution_count": 9,
     "metadata": {},
     "output_type": "execute_result"
    }
   ],
   "source": [
    "len(matrix1[:, 20][:803]), len(matrix2[::4, 40])"
   ]
  },
  {
   "cell_type": "code",
   "execution_count": 10,
   "id": "468706e8-bb01-4362-ac4e-d1415e960d69",
   "metadata": {},
   "outputs": [],
   "source": [
    "r = np.abs(matrix2[::4, 40] - matrix1[:, 20][:803])"
   ]
  },
  {
   "cell_type": "code",
   "execution_count": 11,
   "id": "063711f7-63b3-4301-b3d0-616a3896dcd0",
   "metadata": {
    "tags": []
   },
   "outputs": [
    {
     "data": {
      "text/plain": [
       "0.0"
      ]
     },
     "execution_count": 11,
     "metadata": {},
     "output_type": "execute_result"
    }
   ],
   "source": [
    "np.max(r)"
   ]
  },
  {
   "cell_type": "code",
   "execution_count": null,
   "id": "6b94ed8b-deb5-4928-ad05-05762068b471",
   "metadata": {},
   "outputs": [],
   "source": []
  }
 ],
 "metadata": {
  "kernelspec": {
   "display_name": "Python 3 (ipykernel)",
   "language": "python",
   "name": "python3"
  },
  "language_info": {
   "codemirror_mode": {
    "name": "ipython",
    "version": 3
   },
   "file_extension": ".py",
   "mimetype": "text/x-python",
   "name": "python",
   "nbconvert_exporter": "python",
   "pygments_lexer": "ipython3",
   "version": "3.9.7"
  },
  "widgets": {
   "application/vnd.jupyter.widget-state+json": {
    "state": {},
    "version_major": 2,
    "version_minor": 0
   }
  }
 },
 "nbformat": 4,
 "nbformat_minor": 5
}
